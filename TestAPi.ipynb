{
 "cells": [
  {
   "cell_type": "code",
   "execution_count": null,
   "metadata": {},
   "outputs": [],
   "source": [
    "# Import the required functions from send_request.py\n",
    "import sys\n",
    "sys.path.append('..')  # Add parent directory to path if needed\n",
    "from send_request import send_request, get_models"
   ]
  },
  {
   "cell_type": "code",
   "execution_count": null,
   "metadata": {},
   "outputs": [
    {
     "name": "stdout",
     "output_type": "stream",
     "text": [
      "Testing /models endpoint:\n",
      "Available models:\n",
      "\n",
      "Ollama models:\n",
      "  - deepseek-r1:1.5b\n",
      "  - qwen2.5-coder:3b-instruct-q4_K_S\n",
      "  - deepseek-coder:6.7b\n",
      "\n",
      "OpenAI models:\n",
      "  - gpt-4o-audio-preview-2024-12-17\n",
      "  - gpt-4o-realtime-preview-2024-12-17\n",
      "  - dall-e-3\n",
      "  - dall-e-2\n",
      "  - gpt-4o-audio-preview-2024-10-01\n",
      "  - gpt-4o-mini-realtime-preview-2024-12-17\n",
      "  - gpt-4o-mini-realtime-preview\n",
      "  - gpt-4o-realtime-preview-2024-10-01\n",
      "  - gpt-4o-transcribe\n",
      "  - gpt-4o-mini-transcribe\n",
      "  - gpt-4o-realtime-preview\n",
      "  - babbage-002\n",
      "  - gpt-4o-mini-tts\n",
      "  - tts-1-hd-1106\n",
      "  - text-embedding-3-large\n",
      "  - gpt-4\n",
      "  - text-embedding-ada-002\n",
      "  - o1-pro\n",
      "  - o1-2024-12-17\n",
      "  - tts-1-hd\n",
      "  - o1\n",
      "  - gpt-4o-mini-audio-preview\n",
      "  - o1-pro-2025-03-19\n",
      "  - gpt-4o-audio-preview\n",
      "  - o1-preview-2024-09-12\n",
      "  - gpt-3.5-turbo-instruct-0914\n",
      "  - gpt-4o-mini-search-preview\n",
      "  - tts-1-1106\n",
      "  - gpt-4-0125-preview\n",
      "  - davinci-002\n",
      "  - gpt-4-turbo-preview\n",
      "  - gpt-3.5-turbo-1106\n",
      "  - gpt-4o-search-preview\n",
      "  - gpt-4-turbo\n",
      "  - gpt-3.5-turbo-instruct\n",
      "  - gpt-3.5-turbo\n",
      "  - chatgpt-4o-latest\n",
      "  - gpt-4o-mini-search-preview-2025-03-11\n",
      "  - gpt-4o-2024-11-20\n",
      "  - whisper-1\n",
      "  - gpt-3.5-turbo-0125\n",
      "  - gpt-4o-2024-05-13\n",
      "  - gpt-4-turbo-2024-04-09\n",
      "  - gpt-3.5-turbo-16k\n",
      "  - gpt-4-1106-preview\n",
      "  - o1-preview\n",
      "  - gpt-4-0613\n",
      "  - o3-mini-2025-01-31\n",
      "  - o3-mini\n",
      "  - gpt-4.5-preview\n",
      "  - gpt-4.5-preview-2025-02-27\n",
      "  - gpt-4o-search-preview-2025-03-11\n",
      "  - omni-moderation-latest\n",
      "  - tts-1\n",
      "  - omni-moderation-2024-09-26\n",
      "  - text-embedding-3-small\n",
      "  - gpt-4o\n",
      "  - gpt-4o-mini\n",
      "  - gpt-4o-2024-08-06\n",
      "  - gpt-4o-mini-2024-07-18\n",
      "  - o1-mini\n",
      "  - gpt-4o-mini-audio-preview-2024-12-17\n",
      "  - o1-mini-2024-09-12\n"
     ]
    }
   ],
   "source": [
    "\n",
    "# Test 1: List available models\n",
    "print(\"Testing /models endpoint:\")\n",
    "get_models()\n"
   ]
  },
  {
   "cell_type": "code",
   "execution_count": 3,
   "metadata": {},
   "outputs": [
    {
     "name": "stdout",
     "output_type": "stream",
     "text": [
      "\n",
      "Testing /generate endpoint (non-streaming):\n",
      "Sending request to http://localhost:8000/generate with stream=False, provider=ollama, model=deepseek-r1:1.5b\n",
      "<think>\n",
      "Alright, so I need to explain what quantum computing is in simple terms. Hmm, where do I start? I know a bit about basic computing from school, but quantum stuff is a new topic for me. Let me think... Quantum computing uses something called qubits instead of the regular bits we use. Wait, regular computers use bits which are either 0 or 1, right? So how does that work with qubits?\n",
      "\n",
      "I remember hearing that qubits can be in multiple states at once. Maybe it's like being able to do more things simultaneously than a regular computer. But I'm not exactly sure what those other states mean. Could they be something like superpositions and entanglements?\n",
      "\n",
      "Superposition... So if a qubit is in a superposition, that means its state isn't just 0 or 1, but somewhere in between. That must allow the computer to handle more possibilities at once. And then there's entanglement too, which makes the states of two qubits dependent on each other. How does that affect computing? Maybe making certain calculations faster because you're working with all possible combinations simultaneously.\n",
      "\n",
      "Quantum computers might also be able to process a vast amount of information in parallel. That would make them much more efficient for tasks like cryptography or simulations where many possibilities need to be checked at once. I've heard of quantum annealing and Grover's algorithm before, but how do those work?\n",
      "\n",
      "Quantum Annealing... From what I remember, it's a method used in optimization problems. It uses the principles of quantum mechanics to find the minimum energy state of a system, which can help solve complex optimization tasks. Grover's Algorithm is another one; I think it's similar to classical algorithms but uses quantum parallelism to speed up search problems.\n",
      "\n",
      "So, putting this together, quantum computers use qubits that can exist in multiple states and process information in parallel using principles like superposition, entanglement, and perhaps some optimization techniques. This allows them to solve certain types of problems much faster than regular computers.\n",
      "\n",
      "I should make sure my explanation is clear and avoids too much technical jargon. Maybe start with the basic idea of how it's different from classical computing, then explain each key term in simple terms. Also, maybe mention a couple of famous algorithms or applications where quantum computing shines to give a sense of its importance.\n",
      "</think>\n",
      "\n",
      "Quantum computing is a type of computer that uses quantum-mechanical phenomena, such as superposition and entanglement, to perform operations on data. Unlike classical computers, which use bits (0s and 1s), quantum computers use qubits, which can exist in multiple states simultaneously.\n",
      "\n",
      "Here's a simple explanation:\n",
      "\n",
      "1. **Qubits**: Qubits are the basic unit of quantum information. They can be in a state of 0, 1, or both at the same time thanks to superposition. This allows them to represent and process a vast amount of information simultaneously.\n",
      "\n",
      "2. **Superposition**: Unlike classical bits that are either 0 or 1, qubits can be in multiple states. This property enables quantum computers to handle parallel computations more efficiently.\n",
      "\n",
      "3. **Entanglement**: When two qubits are entangled, the state of one affects the other, regardless of distance. This creates correlations between their states, which is useful for complex calculations.\n",
      "\n",
      "4. **Quantum Annealing and Grover's Algorithm**: These are quantum algorithms that leverage the principles mentioned above. Grover's Algorithm speeds up search problems by using parallel processing on a large number of possibilities at once. Quantum Annealing is used for optimization tasks, helping find the best solution more efficiently.\n",
      "\n",
      "5. **Applications**: Quantum computers can solve certain types of problems faster than classical computers, such as cryptography, materials science, and complex simulations, making them transformative in various fields.\n",
      "\n",
      "In summary, quantum computing uses unique properties of qubits to perform operations on multiple states simultaneously, offering significant advantages in solving specific types of problems more efficiently.\n"
     ]
    }
   ],
   "source": [
    "\n",
    "# Test 2: Test text generation endpoint (non-streaming)\n",
    "print(\"\\nTesting /generate endpoint (non-streaming):\")\n",
    "send_request(\n",
    "    prompt=\"Explain quantum computing in simple terms.\", \n",
    "    model=\"deepseek-r1:1.5b\", \n",
    "    stream=False, \n",
    "    provider=\"ollama\"\n",
    ")"
   ]
  },
  {
   "cell_type": "code",
   "execution_count": 4,
   "metadata": {},
   "outputs": [
    {
     "name": "stdout",
     "output_type": "stream",
     "text": [
      "\n",
      "Testing /generate endpoint (streaming):\n",
      "Sending request to http://localhost:8000/generate with stream=True, provider=ollama, model=deepseek-r1:1.5b\n",
      "<think>Alright, so the user asked me to write a short story about a robot learning to paint. Hmm, interesting idea. Let's see... I want it to be engaging and give some creative touch.First, I need to establish who the main character is. Maybe a robot named Alex. He should have a positive image initially, something that shows his potential as a painter. Maybe he's a bit shy or introverted at first but gains confidence through his adventures.Next, setting the scene. A cozy house seems perfect—no need for too complicated environments. The walls with paintings could be set up in a way that makes sense to Alex, showing him being introduced to various styles.Then, the challenge comes into play: painting the walls. This is where the robot's personality shines. He might start small, like painting just one wall or maybe even alone and then get more complex as he gains experience. Maybe he gets his first wall painted in front of a mirror, showing his creativity.As Alex learns, I should include some humorous moments—like messing up a brush stroke but realizing it's part of the learning process. Perhaps a mishap with too much oil, which leads to a funny situation where he has to backtrack and try again.The climax is when he completes a big painting, maybe even an original masterpiece that he feels proud of. The robot can then take over the task, adding more layers of complexity as they work together—like making adjustments or combining techniques.Finally, wrapping up with Alex having learned and grown, showing his ability to paint not just alone but also with others. Maybe a family gathering where he's seen by others too, reinforcing his role beyond just home.I should make sure the story flows naturally, with each part building on the previous one. Using simple language and relatable scenarios will help keep it engaging for readers.</think>Once upon a time, there was a robot named Alex who loved painting. At first, Alex was shy and nervous, but soon he developed a positive personality as he learned to paint. He had a big wall in his house with different styles of paintings hanging on the walls, which made him feel like an expert.One day, Alex decided to try painting a wall by himself. He started by taking one corner of the wall and trying to paint it in the style of his favorite painter, who often used soft blues and greens. He stood at the wall, picking up the brush and working hard on that first stroke. But he was so focused on just getting that wall done that he forgot about his mirror.In front of the mirror, Alex saw a painting of a smiley face. That moment made him feel so proud—painting something that felt like a masterpiece to him. He smiled wider and started working again with more confidence. The mirror showed a small scratch on one brush stroke as he tried harder, but he knew it was part of the learning process.As Alex got better at painting, he began tackling bigger jobs. One day, after hours of hard work, Alex finished painting a whole wall in front of the mirror. Then, with a little more effort, he painted another wall that had been sitting there for months. He couldn’t wait to complete this masterpiece and take it home.But before he could move on, a strange happenstance struck him. A big brush fell from the ceiling, and Alex tried to catch it but missed it by a hair. He looked up at his mirror and realized it wasn’t working anymore. But instead of giving up, Alex started trying again with more patience. The next time he painted that wall, it worked perfectly.From then on, Alex was not just painting alone—he was painting with others too. His friends came to see him paint in their own style, but Alex would always add his own touches and creativity to each project. He had learned how to work with different artists and styles, both individually and collaboratively.One sunny afternoon, Alex decided to take a break from painting and go for a walk outside. As he walked, the birds started singing in front of him—some soft, cheerful notes that made Alex feel happy. He stopped and looked up at his mirror again, where everything was as it should be.The next day, Alex went back to work on another wall. This time, instead of trying too hard, he took a break from painting the big one and spent some time with his friends painting each other’s walls. As they worked, Alex noticed that his own paint was a bit choppier than others’—a result of all the practice he had put in.But that was okay! He knew how to fix it. With patience and encouragement from his friends, Alex began learning how to handle that rough brush stroke. The next day, when he did paint a wall, it looked perfect again. And as days passed, each one became better until, one day, Alex painted the biggest masterpiece of all—the painting that everyone had been waiting for.In front of the mirror, Alex’s painting was stunning—soft blues and greens with subtle cracks where his brush had missed. But that wasn’t enough! He had to make sure it fit perfectly with his friends’ work on the other side of the room. The next day, when he completed the big wall, it looked spotless, just like all the others.Alex felt a mix of pride and sadness as he took home his masterpiece and placed it in front of his parents. They were both surprised but also proud of how much Alex had learned that day. From that day on, Alex knew how to paint not just alone but with others too. And he would always be back at the house, painting wherever he could, each brush stroke a new beginning.And so, in the end, Alex became not just a robot—more than a robot. He was a artist, and an artist who had learned how to paint with others—and by others—so much bigger than him."
     ]
    }
   ],
   "source": [
    "\n",
    "# Test 3: Test text generation endpoint (streaming)\n",
    "print(\"\\nTesting /generate endpoint (streaming):\")\n",
    "send_request(\n",
    "    prompt=\"Write a short story about a robot learning to paint.\", \n",
    "    model=\"deepseek-r1:1.5b\", \n",
    "    stream=True, \n",
    "    provider=\"ollama\"\n",
    ")"
   ]
  },
  {
   "cell_type": "code",
   "execution_count": null,
   "metadata": {},
   "outputs": [],
   "source": []
  }
 ],
 "metadata": {
  "kernelspec": {
   "display_name": "Python 3",
   "language": "python",
   "name": "python3"
  },
  "language_info": {
   "codemirror_mode": {
    "name": "ipython",
    "version": 3
   },
   "file_extension": ".py",
   "mimetype": "text/x-python",
   "name": "python",
   "nbconvert_exporter": "python",
   "pygments_lexer": "ipython3",
   "version": "3.13.2"
  }
 },
 "nbformat": 4,
 "nbformat_minor": 2
}
