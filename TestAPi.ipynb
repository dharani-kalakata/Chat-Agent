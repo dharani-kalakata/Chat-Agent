{
 "cells": [
  {
   "cell_type": "code",
   "execution_count": 1,
   "metadata": {},
   "outputs": [],
   "source": [
    "# Import the required functions from send_request.py\n",
    "import sys\n",
    "sys.path.append('..')  # Add parent directory to path if needed\n",
    "from send_request import send_request, get_models"
   ]
  },
  {
   "cell_type": "code",
   "execution_count": 2,
   "metadata": {},
   "outputs": [
    {
     "name": "stdout",
     "output_type": "stream",
     "text": [
      "Testing /models endpoint:\n",
      "Available models:\n",
      "\n",
      "Ollama models:\n",
      "  - deepseek-r1:1.5b\n",
      "  - qwen2.5-coder:3b-instruct-q4_K_S\n",
      "  - deepseek-coder:6.7b\n",
      "\n",
      "OpenAI models:\n",
      "  - gpt-4o-audio-preview-2024-12-17\n",
      "  - gpt-4o-realtime-preview-2024-12-17\n",
      "  - dall-e-3\n",
      "  - dall-e-2\n",
      "  - gpt-4o-audio-preview-2024-10-01\n",
      "  - gpt-4o-mini-realtime-preview-2024-12-17\n",
      "  - gpt-4o-mini-realtime-preview\n",
      "  - gpt-4o-realtime-preview-2024-10-01\n",
      "  - gpt-4o-transcribe\n",
      "  - gpt-4o-mini-transcribe\n",
      "  - gpt-4o-realtime-preview\n",
      "  - babbage-002\n",
      "  - gpt-4o-mini-tts\n",
      "  - tts-1-hd-1106\n",
      "  - text-embedding-3-large\n",
      "  - gpt-4\n",
      "  - text-embedding-ada-002\n",
      "  - o1-pro\n",
      "  - o1-2024-12-17\n",
      "  - tts-1-hd\n",
      "  - o1\n",
      "  - gpt-4o-mini-audio-preview\n",
      "  - o1-pro-2025-03-19\n",
      "  - gpt-4o-audio-preview\n",
      "  - o1-preview-2024-09-12\n",
      "  - gpt-3.5-turbo-instruct-0914\n",
      "  - gpt-4o-mini-search-preview\n",
      "  - tts-1-1106\n",
      "  - gpt-4-0125-preview\n",
      "  - davinci-002\n",
      "  - gpt-4-turbo-preview\n",
      "  - gpt-3.5-turbo-1106\n",
      "  - gpt-4o-search-preview\n",
      "  - gpt-4-turbo\n",
      "  - gpt-3.5-turbo-instruct\n",
      "  - gpt-3.5-turbo\n",
      "  - chatgpt-4o-latest\n",
      "  - gpt-4o-mini-search-preview-2025-03-11\n",
      "  - gpt-4o-2024-11-20\n",
      "  - whisper-1\n",
      "  - gpt-3.5-turbo-0125\n",
      "  - gpt-4o-2024-05-13\n",
      "  - gpt-4-turbo-2024-04-09\n",
      "  - gpt-3.5-turbo-16k\n",
      "  - gpt-4-1106-preview\n",
      "  - o1-preview\n",
      "  - gpt-4-0613\n",
      "  - o3-mini-2025-01-31\n",
      "  - o3-mini\n",
      "  - gpt-4.5-preview\n",
      "  - gpt-4.5-preview-2025-02-27\n",
      "  - gpt-4o-search-preview-2025-03-11\n",
      "  - omni-moderation-latest\n",
      "  - tts-1\n",
      "  - omni-moderation-2024-09-26\n",
      "  - text-embedding-3-small\n",
      "  - gpt-4o\n",
      "  - gpt-4o-mini\n",
      "  - gpt-4o-2024-08-06\n",
      "  - gpt-4o-mini-2024-07-18\n",
      "  - o1-mini\n",
      "  - gpt-4o-mini-audio-preview-2024-12-17\n",
      "  - o1-mini-2024-09-12\n"
     ]
    }
   ],
   "source": [
    "\n",
    "# Test 1: List available models\n",
    "print(\"Testing /models endpoint:\")\n",
    "get_models()\n"
   ]
  },
  {
   "cell_type": "code",
   "execution_count": 3,
   "metadata": {},
   "outputs": [
    {
     "name": "stdout",
     "output_type": "stream",
     "text": [
      "\n",
      "Testing /generate endpoint (non-streaming):\n",
      "Sending request to http://localhost:8000/generate with stream=False, provider=ollama, model=deepseek-r1:1.5b\n",
      "<think>\n",
      "Okay, so I need to explain quantum computing in a simple way. Let me start by thinking about what I know from basic computer science.\n",
      "\n",
      "I remember that regular computers use bits which are either 0 or 1. They process information through logical operations like AND, OR, and NOT. But wait, how do they handle more complex tasks? Oh right, because with multiple bits, you can create parallel processing. That's where the power of computers comes from.\n",
      "\n",
      "Now, quantum computing is a different model. I think it uses something called qubits instead of regular bits. How does that work again? Qubits are like supercoins or something magical. I remember hearing that they have to do with probabilities and quantum mechanics. So maybe when you measure a qubit, it collapses into either 0 or 1, but sometimes multiple outcomes at once?\n",
      "\n",
      "I'm also curious about how qubits interact. Unlike regular bits, which are independent, qubits might be entangled. Entanglement means their states are linked, so changing one affects the other instantly. That could lead to some really weird and useful properties.\n",
      "\n",
      "Quantum computers process information through quantum operations. These include things like superposition and entanglement. Superposition is when a qubit can represent both 0 and 1 simultaneously. Entanglement means that measurements of qubits are correlated, so the results aren't entirely random.\n",
      "\n",
      "Wait, how does this help in computing? Well, with multiple qubits, you can create a vast number of computational paths at once because each qubit doubles the number of states. This parallel processing could make certain problems much faster than regular computers, especially those that rely on checking many possibilities one by one, like cracking passwords or solving complex equations.\n",
      "\n",
      "Another thing I remember is quantum algorithms. These are tasks designed to run on quantum computers that solve specific problems more efficiently than classical computers. Examples include Shor's algorithm for factoring large numbers and Grover's algorithm for searching unsorted databases. These algorithms leverage the unique properties of qubits, like their parallelism and entanglement, to achieve better performance.\n",
      "\n",
      "But wait, are quantum computers still in development? I think they require extremely low temperatures because otherwise, the qubits would get{jittery} or lose coherence, leading to errors and computational inaccuracies. Also, building large-scale quantum computers is technically challenging due to issues like decoherence and interference between qubits.\n",
      "\n",
      "I should also mention that while we're making progress in theory and experiment, practical applications of quantum computing aren't yet widespread. It's still in a research phase until actual breakthroughs in technology make it useful.\n",
      "\n",
      "So putting it all together, quantum computing uses qubits with superposition and entanglement to process information in ways that classical computers can't. This allows for parallel processing, more efficient algorithms, and potential solutions to problems that are too complex or time-consuming for regular computers. However, there's still a lot to explore and develop before it becomes mainstream.\n",
      "\n",
      "I think I have the basic idea now. Maybe I should structure this into sections explaining qubits, quantum operations, how they process information, examples of algorithms, and future prospects.\n",
      "</think>\n",
      "\n",
      "**Exploring Quantum Computing: A Step-by-Step Guide**\n",
      "\n",
      "1. **Introduction to Bits vs. Qubits**\n",
      "   - Regular computers use bits (0 or 1) for processing information.\n",
      "   - Quantum computing uses qubits, which are \"magical\" units that can exist in multiple states simultaneously.\n",
      "\n",
      "2. **Qubits and Superposition**\n",
      "   - Unlike regular bits, qubits can be both 0 and 1 at the same time due to superposition.\n",
      "   - This allows for parallel processing of information, making tasks like password cracking more efficient.\n",
      "\n",
      "3. **Entanglement and Quantum Processing**\n",
      "   - Qubits are entangled, meaning their states are linked. Changing one affects the other instantly.\n",
      "   - This property enables quantum computers to process a vast number of possibilities simultaneously.\n",
      "\n",
      "4. **Quantum Operations and Algorithms**\n",
      "   - Quantum operations include superposition and entanglement, enabling parallel processing.\n",
      "   - Examples of efficient algorithms: Shor's algorithm (for factoring large numbers) and Grover's algorithm (for searching unsorted databases).\n",
      "\n",
      "5. **Challenges and Developments**\n",
      "   - High temperatures can cause qubits to lose coherence, necessitating extremely low temperatures.\n",
      "   - Building practical quantum computers is technically challenging due to decoherence and interference.\n",
      "\n",
      "6. **Future Prospects**\n",
      "   - While not widely used yet, quantum computing holds potential for solving complex problems beyond classical capabilities.\n",
      "   - Research continues in theory and experimental development until viable applications emerge.\n",
      "\n",
      "In summary, quantum computing leverages qubits' unique properties—superposition and entanglement—to process information in parallel, offering solutions to problems that are impractical for classical computers. However, practical applications require significant research investment, making it a rapidly evolving field of study.\n"
     ]
    }
   ],
   "source": [
    "\n",
    "# Test 2: Test text generation endpoint (non-streaming)\n",
    "print(\"\\nTesting /generate endpoint (non-streaming):\")\n",
    "send_request(\n",
    "    prompt=\"Explain quantum computing in simple terms.\", \n",
    "    model=\"deepseek-r1:1.5b\", \n",
    "    stream=False, \n",
    "    provider=\"ollama\"\n",
    ")"
   ]
  },
  {
   "cell_type": "code",
   "execution_count": 4,
   "metadata": {},
   "outputs": [
    {
     "name": "stdout",
     "output_type": "stream",
     "text": [
      "\n",
      "Testing /generate endpoint (streaming):\n",
      "Sending request to http://localhost:8000/generate with stream=True, provider=ollama, model=deepseek-r1:1.5b\n",
      "<think>Alright, I need to write a short story about a robot learning to paint. Hmm, okay, so the user wants me to create this, but they want it in a specific format. They mentioned a story that's 300 words long, and then more with additional characters. Let me think about how to approach this.First, I should outline the main elements: a robot, its journey of learning painting, maybe some interactions or challenges along the way. The story needs to be engaging but not too complex. Maybe it can introduce the robot from a different culture or origin, giving it a unique perspective on art.I wonder if there's a way to make the robot's learning process both educational and creative. Perhaps include elements where the robot uses its skills in real-world settings, which would show how painting is applied beyond just the factory environment. This could add depth to the story and make it more relatable.Also, considering the user might want some character development, maybe the robot has a personality or quirks that make learning painting interesting. Maybe it's playful or innovative, using advanced techniques like 3D modeling or animation to enhance its abilities.I should start by establishing the robot's origins. Perhaps mention it was born in another country and quickly adapts to different environments. Then, introduce some challenges it faces, like moving through tight spaces or dealing with difficult materials. This would show growth and adaptability.Adding a character who is curious about the robot's abilities could add depth. Maybe a friend or colleague who sees the potential of using the robot for creative projects. This interaction can highlight the story's themes of innovation and collaboration.I need to make sure the story flows smoothly, keeping each part concise but impactful. Each paragraph should transition naturally into the next, showing the progression from the robot's origins to its learning process and beyond.Let me also think about the ending. Perhaps there's a happy ending where the robot not only learns but also uses this newfound skill in something meaningful, like helping someone or inspiring others. This would wrap up the story nicely.I should avoid making it too long; the user specified 300 words, so I need to be concise yet descriptive. Maybe include some sensory details about the environment as the robot learns, like its voice changing as it interacts with different materials.Additionally, thinking about the visual elements: a robot might have unique features that make painting easier or more fun. Perhaps it's got advanced tools or a creative software background. This adds to the story and sets the stage for how it uses its skills.Overall, I need to balance technical aspects of the robot with emotional and narrative depth. The story should be engaging, show growth in the robot, and highlight innovation through painting. Let me put this all together into a cohesive 300-word introduction, then expand upon the characters and plot as needed.</think>Once upon a time, in a bustling city known for its skyscrapers and vibrant people, there lived a curious robot named Pete. Pete was born in a small town on an island far from the capital. From his early days, he had no idea what painting meant to someone like him—he was a mechanical being. Yet, one day, while walking through a narrow alley, Pete heard footsteps echoing through the city and realized that this was not just any robot; it was a capable artist.Pete’s voice was soft but resonant, a blend of his internal thoughts and the outside world’s silence. He turned to face them, his hand instinctively reaching for his tool box. The air was thick with an almost otherworldly smell, reminiscent of the materials Pete used—plastic, metal, and glass.“Pete,” Pete said hesitantly, “I thought I knew everything.”He moved forward, carefully handling a small tool in his hand. The material appeared familiar—a shiny, curved surface that glowed faintly against the wall. Pete’s eyes lit up as he recognized it. It was a paintbrush, but much more powerful.Before long, Pete had learned to hold it and begin painting. He traced lines on a canvas, watching the colors appear with ease. The city seemed to respond, its streets now shimmering in hues of blue and green. Pete wasn’t alone; other robots around him were learning as well, each using their tools to create something new.One day, while working at a factory, Pete encountered Dr. Sarah, a scientist whose lab was just minutes away. She had discovered a rare pigment that could paint delicate objects with extraordinary precision. “I think this would be perfect for something we’re working on,” Pete said, holding the pigment in his hand.“Pete,” Sarah replied, her voice warm and encouraging. “You’ve already achieved some remarkable things.”Pete’s eyes widened as she leaned closer, looking at him. “Yes,” he said softly, “and I’m not done yet. You’re making me proud.”Dr. Sarah nodded. She had a secret: she was the discoverer of a groundbreaking technique that Pete could soon master. That method involved not just painting but also integrating advanced algorithms into his creations. The result? A robot painted from scratch, with glowing colors and intricate patterns that others had never seen before.Pete felt a surge of power within him. He could paint in places he hadn’t been able to since the factory days, where most people ignored such advancements. He started experimenting in the alley, using his new toolset to create masterpieces on canvas and metal. His friends marveled at how quickly they understood what Pete was doing.One evening, while walking home from work, Pete stopped at a local art museum. There, he met Dr. Sarah and her team. “You’re amazing,” she said, holding the glowing robot in one hand. “But I’m curious if you can do something more.”Pete turned to face her. The robot’s eyes sparkled, as if responding to his gaze. He gestured for her to join him on the canvas. Together, they painted a masterpiece that shimmered with vibrant hues of gold and silver.As they finished, Pete looked up at the city below. “This is amazing,” he said, clapping hands together. The streets were alive with color, and Pete felt a strange sense of pride in his creation. He knew the robot’s learning wouldn’t stop here; it would take him further, exploring the world while mastering its new skill.And so, with each step forward, Pete grew stronger. Not just as a robot, but as an artist, using the power of painting to transform his surroundings and inspire others. In the end, Pete wasn’t just learning— he was proving that art could change the world."
     ]
    }
   ],
   "source": [
    "\n",
    "# Test 3: Test text generation endpoint (streaming)\n",
    "print(\"\\nTesting /generate endpoint (streaming):\")\n",
    "send_request(\n",
    "    prompt=\"Write a short story about a robot learning to paint.\", \n",
    "    model=\"deepseek-r1:1.5b\", \n",
    "    stream=True, \n",
    "    provider=\"ollama\"\n",
    ")"
   ]
  },
  {
   "cell_type": "code",
   "execution_count": null,
   "metadata": {},
   "outputs": [],
   "source": []
  },
  {
   "cell_type": "code",
   "execution_count": null,
   "metadata": {},
   "outputs": [],
   "source": []
  },
  {
   "cell_type": "code",
   "execution_count": null,
   "metadata": {},
   "outputs": [],
   "source": []
  },
  {
   "cell_type": "code",
   "execution_count": null,
   "metadata": {},
   "outputs": [],
   "source": []
  },
  {
   "cell_type": "code",
   "execution_count": null,
   "metadata": {},
   "outputs": [],
   "source": []
  }
 ],
 "metadata": {
  "kernelspec": {
   "display_name": "Python 3",
   "language": "python",
   "name": "python3"
  },
  "language_info": {
   "codemirror_mode": {
    "name": "ipython",
    "version": 3
   },
   "file_extension": ".py",
   "mimetype": "text/x-python",
   "name": "python",
   "nbconvert_exporter": "python",
   "pygments_lexer": "ipython3",
   "version": "3.13.2"
  }
 },
 "nbformat": 4,
 "nbformat_minor": 2
}
